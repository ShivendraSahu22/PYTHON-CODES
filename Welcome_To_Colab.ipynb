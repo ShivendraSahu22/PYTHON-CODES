{
  "cells": [
    {
      "cell_type": "markdown",
      "metadata": {
        "id": "view-in-github",
        "colab_type": "text"
      },
      "source": [
        "<a href=\"https://colab.research.google.com/github/ShivendraSahu22/PYTHON-CODES/blob/main/Welcome_To_Colab.ipynb\" target=\"_parent\"><img src=\"https://colab.research.google.com/assets/colab-badge.svg\" alt=\"Open In Colab\"/></a>"
      ]
    },
    {
      "cell_type": "markdown",
      "source": [
        "Write a Python program to find and print all numbers between 1 to 500 whose square ends with the same digits as the number itself."
      ],
      "metadata": {
        "id": "pFlltM1mGMqn"
      }
    },
    {
      "cell_type": "code",
      "source": [
        "n = 500\n",
        "for num in range (1,n+1):\n",
        "    sq = num * num\n",
        "    temp = num\n",
        "    power = 1\n",
        "    while temp > 0:\n",
        "        power = power * 10\n",
        "        temp = temp // 10\n",
        "    if sq % power == num:\n",
        "        print(num)"
      ],
      "metadata": {
        "colab": {
          "base_uri": "https://localhost:8080/"
        },
        "id": "Py4W50SZGL9B",
        "outputId": "d9512da8-f9b3-4cbf-d3d8-8b5a73c29680",
        "collapsed": true
      },
      "execution_count": null,
      "outputs": [
        {
          "output_type": "stream",
          "name": "stdout",
          "text": [
            "1\n",
            "5\n",
            "6\n",
            "25\n",
            "76\n",
            "376\n"
          ]
        }
      ]
    },
    {
      "cell_type": "markdown",
      "source": [
        "Write a Python program to print all numbers between 1 to 1000 whose sum of digits is equal to 10."
      ],
      "metadata": {
        "id": "LN7Z1mv8Jee6"
      }
    },
    {
      "cell_type": "code",
      "source": [
        "n = 1000\n",
        "for num in range(1,n+1):\n",
        "    sum = 0\n",
        "    temp = num\n",
        "    while temp>0:\n",
        "        sum = sum + temp % 10\n",
        "        temp = temp // 10\n",
        "    if sum == 10 :\n",
        "        print(num)"
      ],
      "metadata": {
        "colab": {
          "base_uri": "https://localhost:8080/"
        },
        "collapsed": true,
        "id": "PGGvzc2EJdsI",
        "outputId": "aa8c4f65-6703-48a4-87f7-e32dccf93fb7"
      },
      "execution_count": 2,
      "outputs": [
        {
          "output_type": "stream",
          "name": "stdout",
          "text": [
            "19\n",
            "28\n",
            "37\n",
            "46\n",
            "55\n",
            "64\n",
            "73\n",
            "82\n",
            "91\n",
            "109\n",
            "118\n",
            "127\n",
            "136\n",
            "145\n",
            "154\n",
            "163\n",
            "172\n",
            "181\n",
            "190\n",
            "208\n",
            "217\n",
            "226\n",
            "235\n",
            "244\n",
            "253\n",
            "262\n",
            "271\n",
            "280\n",
            "307\n",
            "316\n",
            "325\n",
            "334\n",
            "343\n",
            "352\n",
            "361\n",
            "370\n",
            "406\n",
            "415\n",
            "424\n",
            "433\n",
            "442\n",
            "451\n",
            "460\n",
            "505\n",
            "514\n",
            "523\n",
            "532\n",
            "541\n",
            "550\n",
            "604\n",
            "613\n",
            "622\n",
            "631\n",
            "640\n",
            "703\n",
            "712\n",
            "721\n",
            "730\n",
            "802\n",
            "811\n",
            "820\n",
            "901\n",
            "910\n"
          ]
        }
      ]
    },
    {
      "cell_type": "markdown",
      "source": [
        "Write a Python program to print all three-digit numbers in which any two consecutive digits are the same."
      ],
      "metadata": {
        "id": "2Hm_fnDfRfyZ"
      }
    },
    {
      "cell_type": "code",
      "source": [
        "for num in range(100,1000):\n",
        "    temp = num\n",
        "    a = num // 100\n",
        "    b = (num //10) % 10\n",
        "    c = num % 10\n",
        "    if a == b or b == c:\n",
        "        print(num)"
      ],
      "metadata": {
        "colab": {
          "base_uri": "https://localhost:8080/"
        },
        "collapsed": true,
        "id": "yfxr1g31PPGQ",
        "outputId": "fd4b8f49-77dd-4d9d-b34f-0ff121e73e90"
      },
      "execution_count": null,
      "outputs": [
        {
          "output_type": "stream",
          "name": "stdout",
          "text": [
            "100\n",
            "110\n",
            "111\n",
            "112\n",
            "113\n",
            "114\n",
            "115\n",
            "116\n",
            "117\n",
            "118\n",
            "119\n",
            "122\n",
            "133\n",
            "144\n",
            "155\n",
            "166\n",
            "177\n",
            "188\n",
            "199\n",
            "200\n",
            "211\n",
            "220\n",
            "221\n",
            "222\n",
            "223\n",
            "224\n",
            "225\n",
            "226\n",
            "227\n",
            "228\n",
            "229\n",
            "233\n",
            "244\n",
            "255\n",
            "266\n",
            "277\n",
            "288\n",
            "299\n",
            "300\n",
            "311\n",
            "322\n",
            "330\n",
            "331\n",
            "332\n",
            "333\n",
            "334\n",
            "335\n",
            "336\n",
            "337\n",
            "338\n",
            "339\n",
            "344\n",
            "355\n",
            "366\n",
            "377\n",
            "388\n",
            "399\n",
            "400\n",
            "411\n",
            "422\n",
            "433\n",
            "440\n",
            "441\n",
            "442\n",
            "443\n",
            "444\n",
            "445\n",
            "446\n",
            "447\n",
            "448\n",
            "449\n",
            "455\n",
            "466\n",
            "477\n",
            "488\n",
            "499\n",
            "500\n",
            "511\n",
            "522\n",
            "533\n",
            "544\n",
            "550\n",
            "551\n",
            "552\n",
            "553\n",
            "554\n",
            "555\n",
            "556\n",
            "557\n",
            "558\n",
            "559\n",
            "566\n",
            "577\n",
            "588\n",
            "599\n",
            "600\n",
            "611\n",
            "622\n",
            "633\n",
            "644\n",
            "655\n",
            "660\n",
            "661\n",
            "662\n",
            "663\n",
            "664\n",
            "665\n",
            "666\n",
            "667\n",
            "668\n",
            "669\n",
            "677\n",
            "688\n",
            "699\n",
            "700\n",
            "711\n",
            "722\n",
            "733\n",
            "744\n",
            "755\n",
            "766\n",
            "770\n",
            "771\n",
            "772\n",
            "773\n",
            "774\n",
            "775\n",
            "776\n",
            "777\n",
            "778\n",
            "779\n",
            "788\n",
            "799\n",
            "800\n",
            "811\n",
            "822\n",
            "833\n",
            "844\n",
            "855\n",
            "866\n",
            "877\n",
            "880\n",
            "881\n",
            "882\n",
            "883\n",
            "884\n",
            "885\n",
            "886\n",
            "887\n",
            "888\n",
            "889\n",
            "899\n",
            "900\n",
            "911\n",
            "922\n",
            "933\n",
            "944\n",
            "955\n",
            "966\n",
            "977\n",
            "988\n",
            "990\n",
            "991\n",
            "992\n",
            "993\n",
            "994\n",
            "995\n",
            "996\n",
            "997\n",
            "998\n",
            "999\n"
          ]
        }
      ]
    }
  ],
  "metadata": {
    "colab": {
      "name": "Welcome To Colab",
      "provenance": [],
      "include_colab_link": true
    },
    "kernelspec": {
      "display_name": "Python 3",
      "name": "python3"
    }
  },
  "nbformat": 4,
  "nbformat_minor": 0
}